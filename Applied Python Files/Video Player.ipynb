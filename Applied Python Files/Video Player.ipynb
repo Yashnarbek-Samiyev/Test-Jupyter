{
 "cells": [
  {
   "cell_type": "code",
   "execution_count": 1,
   "id": "7ff5b18c",
   "metadata": {},
   "outputs": [],
   "source": [
    "!pip install opencv-python"
   ]
  },
  {
   "cell_type": "code",
   "execution_count": null,
   "id": "7c47d3b1",
   "metadata": {},
   "outputs": [],
   "source": [
    "import cv2\n",
    "import numpy as np\n",
    "\n",
    "# Read video file\n",
    "new_capture = cv2.VideoCapture('fun.mp4')\n",
    "\n",
    "# Check if the file opened successfully\n",
    "if (new_capture.isOpened()== False): \n",
    "  print(\"Error for opening the video file\")\n",
    "\n",
    "# Reading the video to complete\n",
    "while(new_capture.isOpened()):\n",
    "    ret, frame = new_capture.read()\n",
    "    if ret == True:\n",
    "        cv2.imshow('Frame', frame)\n",
    "        if cv2.waitKey(25) & 0xFF == ord('q'):\n",
    "            break\n",
    "    else:\n",
    "        break\n",
    "        \n",
    "# Release when everything is completed\n",
    "new_capture.release()\n",
    "cv2.destroyAllWindows()  # close all frames "
   ]
  },
  {
   "cell_type": "code",
   "execution_count": null,
   "id": "1d22a561",
   "metadata": {},
   "outputs": [],
   "source": []
  }
 ],
 "metadata": {
  "kernelspec": {
   "display_name": "Python 3",
   "language": "python",
   "name": "python3"
  },
  "language_info": {
   "codemirror_mode": {
    "name": "ipython",
    "version": 3
   },
   "file_extension": ".py",
   "mimetype": "text/x-python",
   "name": "python",
   "nbconvert_exporter": "python",
   "pygments_lexer": "ipython3",
   "version": "3.11.4"
  }
 },
 "nbformat": 4,
 "nbformat_minor": 5
}
