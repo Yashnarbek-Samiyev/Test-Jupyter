{
 "cells": [
  {
   "cell_type": "markdown",
   "id": "df09c794",
   "metadata": {},
   "source": [
    "# Working with CSV Files"
   ]
  },
  {
   "cell_type": "code",
   "execution_count": 1,
   "id": "ca9e3e99",
   "metadata": {},
   "outputs": [],
   "source": [
    "# Generate 50 rows and 4 columns of data\n",
    "import numpy as np\n",
    "new_data = np.random.random((50,4))\n",
    "np.savetxt(\"main.csv\", new_data, fmt = \"%.2f\", delimiter=\",\", header = \"H1, H2, H3, H4\")"
   ]
  },
  {
   "cell_type": "code",
   "execution_count": 3,
   "id": "17011393",
   "metadata": {},
   "outputs": [
    {
     "data": {
      "text/plain": [
       "array([[0.54, 0.67, 0.77, 0.02],\n",
       "       [0.24, 0.38, 0.08, 0.52],\n",
       "       [0.71, 0.46, 0.43, 0.94],\n",
       "       [0.93, 0.42, 0.12, 0.33]])"
      ]
     },
     "execution_count": 3,
     "metadata": {},
     "output_type": "execute_result"
    }
   ],
   "source": [
    "# Read CSV File\n",
    "reading_csv = np.loadtxt(\"main.csv\", delimiter=\",\")\n",
    "reading_csv[:4, :]"
   ]
  },
  {
   "cell_type": "markdown",
   "id": "4a80714d",
   "metadata": {},
   "source": [
    "# Working with Pickle Files"
   ]
  },
  {
   "cell_type": "code",
   "execution_count": 4,
   "id": "35e05279",
   "metadata": {},
   "outputs": [],
   "source": [
    "import pickle"
   ]
  },
  {
   "cell_type": "code",
   "execution_count": 5,
   "id": "ad36eb13",
   "metadata": {},
   "outputs": [],
   "source": [
    "#Write to Pickle File\n",
    "ordering = {\"First\":1, \"Second\":2, \"Third\":3}\n",
    "pickle.dump(ordering, open(\"new.pkl\", \"wb\"))"
   ]
  },
  {
   "cell_type": "code",
   "execution_count": 6,
   "id": "efce6cc4",
   "metadata": {},
   "outputs": [],
   "source": [
    "#Read from Pickle File\n",
    "reading_pickle = pickle.load(open(\"new.pkl\", \"rb\"))"
   ]
  },
  {
   "cell_type": "code",
   "execution_count": 7,
   "id": "783769fc",
   "metadata": {},
   "outputs": [
    {
     "data": {
      "text/plain": [
       "{'First': 1, 'Second': 2, 'Third': 3}"
      ]
     },
     "execution_count": 7,
     "metadata": {},
     "output_type": "execute_result"
    }
   ],
   "source": [
    "reading_pickle"
   ]
  },
  {
   "cell_type": "markdown",
   "id": "883447f1",
   "metadata": {},
   "source": [
    "# Working with JSON Files"
   ]
  },
  {
   "cell_type": "code",
   "execution_count": 8,
   "id": "5c4ae532",
   "metadata": {},
   "outputs": [],
   "source": [
    "import json\n",
    "\n",
    "college = {\n",
    "\"college\": \"Engineering College\",\n",
    "\"objectives\": \"Mastering Electrical and Computer Engineering\",\n",
    "\"departments\": {\n",
    "\"dep1\": \"Electical\",\n",
    "\"dep2\": \"Computer\"\n",
    "},\n",
    "\"years\":[\n",
    "\"year 1\",\n",
    "\"year 2\",\n",
    "\"year 3\",\n",
    "\"year 4\"\n",
    "],\n",
    "\"numbers\":[1, 2, 3, 4],\n",
    "\"ID\":[10, 20, 30, 40]\n",
    "}\n",
    "\n",
    "json.dump(college, open(\"college.json\", \"w\"))"
   ]
  },
  {
   "cell_type": "code",
   "execution_count": 9,
   "id": "5eaffd58",
   "metadata": {},
   "outputs": [],
   "source": [
    "new_college = json.load(open(\"college.json\", \"r\"))"
   ]
  },
  {
   "cell_type": "code",
   "execution_count": 10,
   "id": "58d6dd81",
   "metadata": {},
   "outputs": [
    {
     "data": {
      "text/plain": [
       "{'college': 'Engineering College',\n",
       " 'objectives': 'Mastering Electrical and Computer Engineering',\n",
       " 'departments': {'dep1': 'Electical', 'dep2': 'Computer'},\n",
       " 'years': ['year 1', 'year 2', 'year 3', 'year 4'],\n",
       " 'numbers': [1, 2, 3, 4],\n",
       " 'ID': [10, 20, 30, 40]}"
      ]
     },
     "execution_count": 10,
     "metadata": {},
     "output_type": "execute_result"
    }
   ],
   "source": [
    "new_college"
   ]
  },
  {
   "cell_type": "code",
   "execution_count": null,
   "id": "d985dfca",
   "metadata": {},
   "outputs": [],
   "source": []
  }
 ],
 "metadata": {
  "kernelspec": {
   "display_name": "Python 3",
   "language": "python",
   "name": "python3"
  },
  "language_info": {
   "codemirror_mode": {
    "name": "ipython",
    "version": 3
   },
   "file_extension": ".py",
   "mimetype": "text/x-python",
   "name": "python",
   "nbconvert_exporter": "python",
   "pygments_lexer": "ipython3",
   "version": "3.8.8"
  }
 },
 "nbformat": 4,
 "nbformat_minor": 5
}
