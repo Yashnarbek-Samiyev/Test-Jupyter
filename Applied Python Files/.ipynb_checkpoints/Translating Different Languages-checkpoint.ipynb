{
 "cells": [
  {
   "cell_type": "markdown",
   "id": "0093c5ff",
   "metadata": {},
   "source": [
    "# Goslate Library"
   ]
  },
  {
   "cell_type": "code",
   "execution_count": 2,
   "id": "5fec9ce0",
   "metadata": {},
   "outputs": [
    {
     "name": "stdout",
     "output_type": "stream",
     "text": [
      "Requirement already satisfied: goslate in c:\\users\\user\\anaconda3\\lib\\site-packages (1.5.1)\n",
      "Requirement already satisfied: futures in c:\\users\\user\\anaconda3\\lib\\site-packages (from goslate) (3.1.1)\n"
     ]
    }
   ],
   "source": [
    "!pip install goslate"
   ]
  },
  {
   "cell_type": "code",
   "execution_count": 9,
   "id": "f174ca32",
   "metadata": {},
   "outputs": [
    {
     "data": {
      "text/plain": [
       "'Python es tan poderoso'"
      ]
     },
     "execution_count": 9,
     "metadata": {},
     "output_type": "execute_result"
    }
   ],
   "source": [
    "import goslate\n",
    "inserted_text = \"Python is so Powerful\"\n",
    "new_gs = goslate.Goslate()\n",
    "new_gs.translate(inserted_text, 'es')"
   ]
  },
  {
   "cell_type": "markdown",
   "id": "5fe7e0b4",
   "metadata": {},
   "source": [
    "# Translate Library"
   ]
  },
  {
   "cell_type": "code",
   "execution_count": 10,
   "id": "a36479e0",
   "metadata": {},
   "outputs": [
    {
     "name": "stdout",
     "output_type": "stream",
     "text": [
      "Requirement already satisfied: translate in c:\\users\\user\\anaconda3\\lib\\site-packages (3.6.1)\n",
      "Requirement already satisfied: lxml in c:\\users\\user\\anaconda3\\lib\\site-packages (from translate) (4.6.3)\n",
      "Requirement already satisfied: requests in c:\\users\\user\\anaconda3\\lib\\site-packages (from translate) (2.25.1)\n",
      "Requirement already satisfied: libretranslatepy==2.1.1 in c:\\users\\user\\anaconda3\\lib\\site-packages (from translate) (2.1.1)\n",
      "Requirement already satisfied: click in c:\\users\\user\\anaconda3\\lib\\site-packages (from translate) (7.1.2)\n",
      "Requirement already satisfied: idna<3,>=2.5 in c:\\users\\user\\anaconda3\\lib\\site-packages (from requests->translate) (2.10)\n",
      "Requirement already satisfied: certifi>=2017.4.17 in c:\\users\\user\\anaconda3\\lib\\site-packages (from requests->translate) (2020.12.5)\n",
      "Requirement already satisfied: urllib3<1.27,>=1.21.1 in c:\\users\\user\\anaconda3\\lib\\site-packages (from requests->translate) (1.26.4)\n",
      "Requirement already satisfied: chardet<5,>=3.0.2 in c:\\users\\user\\anaconda3\\lib\\site-packages (from requests->translate) (3.0.4)\n"
     ]
    }
   ],
   "source": [
    "!pip install translate"
   ]
  },
  {
   "cell_type": "code",
   "execution_count": 13,
   "id": "a72784dc",
   "metadata": {},
   "outputs": [
    {
     "name": "stdout",
     "output_type": "stream",
     "text": [
      "Dies ist eine nützliche Bibliothek!\n"
     ]
    }
   ],
   "source": [
    "#Translate text to another language\n",
    "from translate import Translator\n",
    "translator= Translator(from_lang=\"english\", to_lang=\"german\")\n",
    "translation = translator.translate(\"This is a useful library!\")\n",
    "print(translation)"
   ]
  },
  {
   "cell_type": "code",
   "execution_count": 15,
   "id": "efabd890",
   "metadata": {},
   "outputs": [
    {
     "name": "stdout",
     "output_type": "stream",
     "text": [
      "Projekt 1: Automatischer Übersetzer&#10; Projekt 2: Datendateien verwalten&#10; Das ist nützlich\n"
     ]
    }
   ],
   "source": [
    "#Translate Document or text file\n",
    "from translate import Translator\n",
    "\n",
    "file = open('projects.txt', 'r')\n",
    "new_content = file.read()\n",
    "translating_file = Translator(to_lang = \"german\")\n",
    "result = translator.translate(new_content)\n",
    "print(result)"
   ]
  },
  {
   "cell_type": "markdown",
   "id": "7c1b8c2b",
   "metadata": {},
   "source": [
    "# TextBlob Library"
   ]
  },
  {
   "cell_type": "code",
   "execution_count": 16,
   "id": "2bf616a8",
   "metadata": {},
   "outputs": [
    {
     "name": "stdout",
     "output_type": "stream",
     "text": [
      "Requirement already satisfied: textblob in c:\\users\\user\\anaconda3\\lib\\site-packages (0.15.3)\n",
      "Requirement already satisfied: nltk>=3.1 in c:\\users\\user\\anaconda3\\lib\\site-packages (from textblob) (3.6.1)\n",
      "Requirement already satisfied: tqdm in c:\\users\\user\\anaconda3\\lib\\site-packages (from nltk>=3.1->textblob) (4.59.0)\n",
      "Requirement already satisfied: regex in c:\\users\\user\\anaconda3\\lib\\site-packages (from nltk>=3.1->textblob) (2021.4.4)\n",
      "Requirement already satisfied: joblib in c:\\users\\user\\anaconda3\\lib\\site-packages (from nltk>=3.1->textblob) (1.0.1)\n",
      "Requirement already satisfied: click in c:\\users\\user\\anaconda3\\lib\\site-packages (from nltk>=3.1->textblob) (7.1.2)\n"
     ]
    }
   ],
   "source": [
    "!pip install textblob"
   ]
  },
  {
   "cell_type": "code",
   "execution_count": 22,
   "id": "a1603a9b",
   "metadata": {},
   "outputs": [
    {
     "data": {
      "text/plain": [
       "TextBlob(\"Un moyen facile de traduire un texte en python\")"
      ]
     },
     "execution_count": 22,
     "metadata": {},
     "output_type": "execute_result"
    }
   ],
   "source": [
    "from textblob import TextBlob\n",
    "adding_blob = TextBlob('Easy way to translate a text in python')\n",
    "adding_blob.translate(to = 'fr')"
   ]
  },
  {
   "cell_type": "code",
   "execution_count": null,
   "id": "e67c91f8",
   "metadata": {},
   "outputs": [],
   "source": []
  }
 ],
 "metadata": {
  "kernelspec": {
   "display_name": "Python 3",
   "language": "python",
   "name": "python3"
  },
  "language_info": {
   "codemirror_mode": {
    "name": "ipython",
    "version": 3
   },
   "file_extension": ".py",
   "mimetype": "text/x-python",
   "name": "python",
   "nbconvert_exporter": "python",
   "pygments_lexer": "ipython3",
   "version": "3.8.8"
  }
 },
 "nbformat": 4,
 "nbformat_minor": 5
}
