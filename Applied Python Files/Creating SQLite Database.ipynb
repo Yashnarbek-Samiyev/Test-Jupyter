{
 "cells": [
  {
   "cell_type": "code",
   "execution_count": 1,
   "id": "a000f18f",
   "metadata": {},
   "outputs": [],
   "source": [
    "# Importing libraries\n",
    "import sqlite3\n",
    "import pandas as pd\n",
    "\n",
    "# SQLite database connection\n",
    "new_connection = sqlite3.connect(r'C:\\Users\\user\\Desktop\\Applied Python Files\\demo5.db')\n",
    "\n",
    "# Loading data into DataFrame\n",
    "demo_data = pd.read_csv('demo5.csv')\n",
    "\n",
    "# Write the data to a sqlite table\n",
    "demo_data.to_sql('demo5', new_connection, if_exists = 'replace', index = False)\n",
    "\n",
    "# Close connection to SQLite database\n",
    "new_connection.close()"
   ]
  },
  {
   "cell_type": "code",
   "execution_count": null,
   "id": "51d3e177",
   "metadata": {},
   "outputs": [],
   "source": []
  }
 ],
 "metadata": {
  "kernelspec": {
   "display_name": "Python 3",
   "language": "python",
   "name": "python3"
  },
  "language_info": {
   "codemirror_mode": {
    "name": "ipython",
    "version": 3
   },
   "file_extension": ".py",
   "mimetype": "text/x-python",
   "name": "python",
   "nbconvert_exporter": "python",
   "pygments_lexer": "ipython3",
   "version": "3.8.8"
  }
 },
 "nbformat": 4,
 "nbformat_minor": 5
}
