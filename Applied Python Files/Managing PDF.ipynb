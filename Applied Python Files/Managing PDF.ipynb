{
 "cells": [
  {
   "cell_type": "markdown",
   "id": "9e5687e2",
   "metadata": {},
   "source": [
    "# Use PyPDF2 to manage PDF Files"
   ]
  },
  {
   "cell_type": "code",
   "execution_count": 1,
   "id": "86c57062",
   "metadata": {},
   "outputs": [
    {
     "name": "stdout",
     "output_type": "stream",
     "text": [
      "Requirement already satisfied: PyPDF2 in c:\\users\\user\\anaconda3\\lib\\site-packages (1.26.0)\n"
     ]
    }
   ],
   "source": [
    "!pip install PyPDF2"
   ]
  },
  {
   "cell_type": "code",
   "execution_count": 9,
   "id": "41c750e3",
   "metadata": {},
   "outputs": [
    {
     "name": "stdout",
     "output_type": "stream",
     "text": [
      "1\n",
      "ARBITRARY \n",
      "ARGS\n",
      "\n",
      "If\n",
      "you\n",
      "do\n",
      "not\n",
      "know\n",
      "how\n",
      "many\n",
      "keyword\n",
      "arguments\n",
      "that\n",
      "will\n",
      "be\n",
      "passed\n",
      "into\n",
      "your\n",
      "function,\n",
      "use\n",
      "an\n",
      "asterisk\n",
      "before\n",
      "the\n",
      "parameter\n",
      "name\n",
      "to\n",
      "denote\n",
      "this\n",
      "kind\n",
      "of\n",
      "argument\n",
      ".\n",
      "\n"
     ]
    }
   ],
   "source": [
    "import PyPDF2\n",
    "\n",
    "new_pdf = open('Intro1.pdf', 'rb') #file object creation\n",
    "reading_pdf = PyPDF2.PdfFileReader(new_pdf) #pdf reader object\n",
    "print(reading_pdf.numPages) #number of pages in pdf\n",
    "\n",
    "pdf_page = reading_pdf.getPage(0) #page object creation\n",
    "print(pdf_page.extractText())\n",
    "\n",
    "# Close PDF File\n",
    "new_pdf.close()"
   ]
  },
  {
   "cell_type": "code",
   "execution_count": null,
   "id": "0eb0b218",
   "metadata": {},
   "outputs": [],
   "source": []
  }
 ],
 "metadata": {
  "kernelspec": {
   "display_name": "Python 3",
   "language": "python",
   "name": "python3"
  },
  "language_info": {
   "codemirror_mode": {
    "name": "ipython",
    "version": 3
   },
   "file_extension": ".py",
   "mimetype": "text/x-python",
   "name": "python",
   "nbconvert_exporter": "python",
   "pygments_lexer": "ipython3",
   "version": "3.8.8"
  }
 },
 "nbformat": 4,
 "nbformat_minor": 5
}
