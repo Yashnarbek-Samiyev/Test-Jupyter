{
 "cells": [
  {
   "cell_type": "code",
   "execution_count": 1,
   "id": "81eb3497",
   "metadata": {},
   "outputs": [],
   "source": [
    "from time import strftime\n",
    "from tkinter import Label, Tk\n",
    "\n",
    "#Window  Config for Clock\n",
    "\n",
    "window = Tk()\n",
    "window.title(\"\")\n",
    "window.geometry(\"600x200\")\n",
    "window.configure(bg = \"black\")\n",
    "window.resizable(False, False)\n",
    "\n",
    "#Label config\n",
    "clock_label =Label(window, bg=\"black\", fg = \"white\", font = (\"Times\", 80,'bold'), relief='flat')\n",
    "clock_label.place(x=20, y=20)\n",
    "\n",
    "def updating_label():\n",
    "    current_time = strftime('%H: %M: %S')\n",
    "    clock_label.configure(text=current_time)\n",
    "    clock_label.after(80, updating_label)\n",
    "    \n",
    "    \n",
    "updating_label()\n",
    "window.mainloop()   "
   ]
  },
  {
   "cell_type": "code",
   "execution_count": null,
   "id": "b395752f",
   "metadata": {},
   "outputs": [],
   "source": []
  }
 ],
 "metadata": {
  "kernelspec": {
   "display_name": "Python 3 (ipykernel)",
   "language": "python",
   "name": "python3"
  },
  "language_info": {
   "codemirror_mode": {
    "name": "ipython",
    "version": 3
   },
   "file_extension": ".py",
   "mimetype": "text/x-python",
   "name": "python",
   "nbconvert_exporter": "python",
   "pygments_lexer": "ipython3",
   "version": "3.11.4"
  }
 },
 "nbformat": 4,
 "nbformat_minor": 5
}
