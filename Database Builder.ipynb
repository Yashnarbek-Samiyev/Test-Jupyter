{
 "cells": [
  {
   "cell_type": "code",
   "execution_count": 8,
   "id": "68a77cdb",
   "metadata": {},
   "outputs": [
    {
     "name": "stdout",
     "output_type": "stream",
     "text": [
      "Note: you may need to restart the kernel to use updated packages.\n"
     ]
    },
    {
     "name": "stderr",
     "output_type": "stream",
     "text": [
      "ERROR: Could not find a version that satisfies the requirement sqlite3 (from versions: none)\n",
      "ERROR: No matching distribution found for sqlite3\n"
     ]
    }
   ],
   "source": [
    "pip install pandas"
   ]
  },
  {
   "cell_type": "code",
   "execution_count": 9,
   "id": "2841f062",
   "metadata": {},
   "outputs": [],
   "source": [
    "# Importing libraries\n",
    "import sqlite3\n",
    "import pandas as pd\n",
    "\n",
    "# SQLite database connection\n",
    "new_connection = sqlite3.connect(r'D:\\Test Jupyter\\demo5.db')\n",
    "\n",
    "# Loading data into DataFrame\n",
    "demo_data = pd.read_csv('demo5.csv')\n",
    "\n",
    "# Write the data to a sqlite table\n",
    "demo_data.to_sql('demo5', new_connection, if_exists = 'replace', index = False)\n",
    "\n",
    "# Close connection to SQLite database\n",
    "new_connection.close()"
   ]
  },
  {
   "cell_type": "code",
   "execution_count": null,
   "id": "ed725289",
   "metadata": {},
   "outputs": [],
   "source": []
  }
 ],
 "metadata": {
  "kernelspec": {
   "display_name": "Python 3 (ipykernel)",
   "language": "python",
   "name": "python3"
  },
  "language_info": {
   "codemirror_mode": {
    "name": "ipython",
    "version": 3
   },
   "file_extension": ".py",
   "mimetype": "text/x-python",
   "name": "python",
   "nbconvert_exporter": "python",
   "pygments_lexer": "ipython3",
   "version": "3.11.4"
  }
 },
 "nbformat": 4,
 "nbformat_minor": 5
}
